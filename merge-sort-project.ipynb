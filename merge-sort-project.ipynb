{
 "cells": [
  {
   "cell_type": "markdown",
   "id": "0c6fca57",
   "metadata": {},
   "source": [
    "## Project 2: Merge Sort"
   ]
  },
  {
   "cell_type": "markdown",
   "id": "995c940d",
   "metadata": {},
   "source": [
    "`[16, 21, 11, 8, 12, 22] -> Merge Sort`"
   ]
  },
  {
   "cell_type": "markdown",
   "id": "6f56c604",
   "metadata": {},
   "source": [
    "**Q1. What are the steps of the array above by the given method?**"
   ]
  },
  {
   "cell_type": "markdown",
   "id": "7007cf4b",
   "metadata": {},
   "source": [
    "[16, 21, 11, 8, 12, 22]<br />\n",
    "[16, 21, 11] - [8, 12, 22]<br />\n",
    "[16, 21] - [11] - [8, 12] - [22]<br />\n",
    "[16] - [21] - [11] - [8] - [12] - [22]<br />\n",
    "[16, 21] - [8, 11] - [12, 22]<br />\n",
    "[8, 11, 16, 21] - [12, 22]<br />\n",
    "[8, 11, 12, 16, 21, 22]"
   ]
  },
  {
   "cell_type": "markdown",
   "id": "018e8071",
   "metadata": {},
   "source": [
    "<hr>"
   ]
  },
  {
   "cell_type": "markdown",
   "id": "78829966",
   "metadata": {},
   "source": [
    "**Q2. What is the BigO notation of the sorting?**"
   ]
  },
  {
   "cell_type": "markdown",
   "id": "e3f79d20",
   "metadata": {},
   "source": [
    "In each step, it's necessary to sort **n-1** arguments, so its time complexity is **O(n)**\n",
    "\n",
    "We repeat it by dividing into **2**. It means **2^x = n**. Accordingly, **O(logn)**\n",
    "\n",
    "In conclusion, the answer is **O(nlogn)**"
   ]
  }
 ],
 "metadata": {
  "kernelspec": {
   "display_name": "Python 3 (ipykernel)",
   "language": "python",
   "name": "python3"
  },
  "language_info": {
   "codemirror_mode": {
    "name": "ipython",
    "version": 3
   },
   "file_extension": ".py",
   "mimetype": "text/x-python",
   "name": "python",
   "nbconvert_exporter": "python",
   "pygments_lexer": "ipython3",
   "version": "3.11.2"
  }
 },
 "nbformat": 4,
 "nbformat_minor": 5
}
