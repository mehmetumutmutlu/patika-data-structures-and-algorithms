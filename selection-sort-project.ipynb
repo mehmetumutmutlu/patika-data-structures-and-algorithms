{
 "cells": [
  {
   "cell_type": "markdown",
   "id": "0c6fca57",
   "metadata": {},
   "source": [
    "## Project 1: Selection Sort"
   ]
  },
  {
   "cell_type": "markdown",
   "id": "995c940d",
   "metadata": {},
   "source": [
    "`[22, 27, 16, 2, 18, 6] -> Insertion Sort`"
   ]
  },
  {
   "cell_type": "markdown",
   "id": "6f56c604",
   "metadata": {},
   "source": [
    "**Q1. What are the steps of the array above by the given method?**"
   ]
  },
  {
   "cell_type": "markdown",
   "id": "7007cf4b",
   "metadata": {},
   "source": [
    "[22, 27, 16, 2, 18, 6]<br />\n",
    "[2, 22, 27, 16, 18, 6]<br />\n",
    "[2, 6, 22, 27, 16, 18]<br />\n",
    "[2, 6, 16, 22, 27, 18]<br />\n",
    "[2, 6, 16, 18, 22, 27]<br />\n",
    "[2, 6, 16, 18, 22, 27]<br />"
   ]
  },
  {
   "cell_type": "markdown",
   "id": "018e8071",
   "metadata": {},
   "source": [
    "<hr>"
   ]
  },
  {
   "cell_type": "markdown",
   "id": "78829966",
   "metadata": {},
   "source": [
    "**Q2. What is the BigO notation of the sorting?**"
   ]
  },
  {
   "cell_type": "markdown",
   "id": "e3f79d20",
   "metadata": {},
   "source": [
    "[22, 27, 16, 2, 18, 6] -> n<br />\n",
    "[2, 22, 27, 16, 18, 6] -> n-1<br />\n",
    "[2, 6, 22, 27, 16, 18] -> n-2<br />\n",
    "[2, 6, 16, 22, 27, 18] -> n-3<br />\n",
    "[2, 6, 16, 18, 22, 27] -> n-4<br />\n",
    "[2, 6, 16, 18, 22, 27] -> n-5<br />\n",
    "\n",
    "It means the sum of numbers from 1 to n: **n * (n+1) / 2 = n^2 + n / 2**\n",
    "\n",
    "Because the dominant argument of the formula is **n^2**, the answer is **O(n^2)**"
   ]
  },
  {
   "cell_type": "markdown",
   "id": "619bac2c",
   "metadata": {},
   "source": [
    "<hr>"
   ]
  },
  {
   "cell_type": "markdown",
   "id": "b777ab20",
   "metadata": {},
   "source": [
    "**Q3. After sorting the array, which case below 18 is an example for in terms of time complexity?<br />\n",
    "a) Average case<br />\n",
    "b) Worst case<br />\n",
    "c) Best case**"
   ]
  },
  {
   "cell_type": "markdown",
   "id": "32d9de44",
   "metadata": {},
   "source": [
    "Because 18 is not at the beginning or end of the array, this is an example of **the average case**."
   ]
  },
  {
   "cell_type": "markdown",
   "id": "470607c4",
   "metadata": {},
   "source": [
    "<hr>"
   ]
  },
  {
   "cell_type": "markdown",
   "id": "1ed3588a",
   "metadata": {},
   "source": [
    "**Q4. What is the first 4 steps of the [7, 3, 5, 8, 2, 9, 4, 15, 6] array by the selection sort method?**"
   ]
  },
  {
   "cell_type": "markdown",
   "id": "7bc52c43",
   "metadata": {},
   "source": [
    "**Array:** [7, 3, 5, 8, 2, 9, 4, 15, 6]<br />\n",
    "**The 1st Step:** [2, 7, 3, 5, 8, 9, 4, 15, 6]<br />\n",
    "**The 2nd Step:** [2, 3, 7, 5, 8, 9, 4, 15, 6]<br />\n",
    "**The 3rd Step:** [2, 3, 4, 7, 5, 8, 9, 15, 6]<br />\n",
    "**The 4th Step:** [2, 3, 4, 5, 7, 8, 9, 15, 6]"
   ]
  }
 ],
 "metadata": {
  "kernelspec": {
   "display_name": "Python 3 (ipykernel)",
   "language": "python",
   "name": "python3"
  },
  "language_info": {
   "codemirror_mode": {
    "name": "ipython",
    "version": 3
   },
   "file_extension": ".py",
   "mimetype": "text/x-python",
   "name": "python",
   "nbconvert_exporter": "python",
   "pygments_lexer": "ipython3",
   "version": "3.11.2"
  }
 },
 "nbformat": 4,
 "nbformat_minor": 5
}
