{
 "cells": [
  {
   "cell_type": "markdown",
   "id": "0c6fca57",
   "metadata": {},
   "source": [
    "## Project 3: Binary Search Tree"
   ]
  },
  {
   "cell_type": "markdown",
   "id": "995c940d",
   "metadata": {},
   "source": [
    "`[7, 5, 1, 8, 3, 6, 0, 9, 4, 2]`"
   ]
  },
  {
   "cell_type": "markdown",
   "id": "6f56c604",
   "metadata": {},
   "source": [
    "**Q1. What are the Binary Search Tree steps of the array above?**"
   ]
  },
  {
   "cell_type": "markdown",
   "id": "7007cf4b",
   "metadata": {},
   "source": [
    "```\n",
    "- - - - - - - - 7 - - - - - - - -\n",
    "- - - - - - - / - \\ - - - - - - -\n",
    "- - - - - - 5 - - - 8 - - - - - -\n",
    "- - - - - / - \\ - - - \\ - - - - -\n",
    "- - - - 1 - - - 6 - - - 9 - - - -\n",
    "- - - / - \\ - - - - - - - - - - -\n",
    "- - 0 - - - 3 - - - - - - - - - -\n",
    "- - - - - / - \\ - - - - - - - - -\n",
    "- - - - 2 - - - 4 - - - - - - - -\n",
    "```\n",
    "\n",
    "The root is **7**. If a number is higher, put it on the right. If a number is lower, put it on the left."
   ]
  }
 ],
 "metadata": {
  "kernelspec": {
   "display_name": "Python 3 (ipykernel)",
   "language": "python",
   "name": "python3"
  },
  "language_info": {
   "codemirror_mode": {
    "name": "ipython",
    "version": 3
   },
   "file_extension": ".py",
   "mimetype": "text/x-python",
   "name": "python",
   "nbconvert_exporter": "python",
   "pygments_lexer": "ipython3",
   "version": "3.11.2"
  }
 },
 "nbformat": 4,
 "nbformat_minor": 5
}
